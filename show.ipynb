{
 "cells": [
  {
   "cell_type": "code",
   "execution_count": 1,
   "metadata": {},
   "outputs": [],
   "source": [
    "from bs4 import BeautifulSoup\n",
    "import requests\n",
    "import json\n",
    "import os\n",
    "\n",
    "def load_tvtropes_for_media(media):\n",
    "    cached_file_name = f\"{media.replace('/', '_', 1)}.json\"\n",
    "    \n",
    "    if os.path.exists(cached_file_name):\n",
    "        # if it already exists, we're done!\n",
    "        return\n",
    "    \n",
    "    r = requests.get(f\"https://tvtropes.org/pmwiki/pmwiki.php/{media}\")\n",
    "    soup = BeautifulSoup(r.text)\n",
    "    main_article = soup.find(id=\"main-article\")\n",
    "\n",
    "    media_vector = {}\n",
    "    main_prefix = '/pmwiki/pmwiki.php/Main/'\n",
    "    for link in main_article.find_all('a'):\n",
    "        href = link.get('href')\n",
    "        if not href.startswith(main_prefix):\n",
    "            continue\n",
    "        media_vector[href[len(main_prefix):]] = 1\n",
    "\n",
    "    with open(cached_file_name, \"w\") as fp:\n",
    "        json.dump(media_vector, fp)"
   ]
  },
  {
   "cell_type": "markdown",
   "metadata": {},
   "source": [
    "## quick test\n",
    "\n",
    "A quick test of this flow with some fake data:"
   ]
  },
  {
   "cell_type": "code",
   "execution_count": 11,
   "metadata": {},
   "outputs": [
    {
     "name": "stdout",
     "output_type": "stream",
     "text": [
      "{\n",
      "    \"Foo\": 1,\n",
      "    \"Bar\": 1\n",
      "}"
     ]
    }
   ],
   "source": [
    "!cat Series_TheTaleOfFoo.json"
   ]
  },
  {
   "cell_type": "code",
   "execution_count": 12,
   "metadata": {},
   "outputs": [
    {
     "name": "stdout",
     "output_type": "stream",
     "text": [
      "{\n",
      "    \"Bar\": 1,\n",
      "    \"Baz\": 1\n",
      "}"
     ]
    }
   ],
   "source": [
    "!cat Series_FooTwoElectricBoogaloo.json"
   ]
  },
  {
   "cell_type": "markdown",
   "metadata": {},
   "source": [
    "Half of the tropes overlap! What does our similarity calculator say?"
   ]
  },
  {
   "cell_type": "code",
   "execution_count": 3,
   "metadata": {},
   "outputs": [],
   "source": [
    "load_tvtropes_for_media(\"Film/FooTwoElectricBoogaloo\")"
   ]
  },
  {
   "cell_type": "code",
   "execution_count": 6,
   "metadata": {},
   "outputs": [
    {
     "name": "stdout",
     "output_type": "stream",
     "text": [
      "\u001b[K\u001b[0m\u001b[0m\u001b[1m\u001b[32m    Finished\u001b[0m dev [unoptimized + debuginfo] target(s) in 0.00s         ] 2/3\n",
      "\u001b[0m\u001b[0m\u001b[1m\u001b[32m     Running\u001b[0m `target/debug/cosine-similarity Series/TheTaleOfFoo Series/FooTwoElectricBoogaloo`\n",
      "0.4999999999999999\n"
     ]
    }
   ],
   "source": [
    "!cargo run Series/TheTaleOfFoo Series/FooTwoElectricBoogaloo"
   ]
  },
  {
   "cell_type": "markdown",
   "metadata": {},
   "source": [
    "## a few test cases\n",
    "\n",
    "Sometimes the list of tropes for a work gets so long that it has to get split into multiple pages. Popular, complex (\"troperific\"), and longer works tend to get this treatment. We haven't built support for this into the script, so don't pick something _too_ huge, like Naruto or Buffy The Vampire Slayer."
   ]
  },
  {
   "cell_type": "markdown",
   "metadata": {},
   "source": [
    "### Suicide Squad versus Alice in Wonderland\n",
    "\n",
    "These couldn't be more different, right?"
   ]
  },
  {
   "cell_type": "code",
   "execution_count": 13,
   "metadata": {},
   "outputs": [],
   "source": [
    "load_tvtropes_for_media(\"Film/SuicideSquad2016\")"
   ]
  },
  {
   "cell_type": "code",
   "execution_count": 14,
   "metadata": {},
   "outputs": [],
   "source": [
    "load_tvtropes_for_media(\"Literature/AlicesAdventuresInWonderland\")"
   ]
  },
  {
   "cell_type": "code",
   "execution_count": 16,
   "metadata": {},
   "outputs": [
    {
     "name": "stdout",
     "output_type": "stream",
     "text": [
      "\u001b[K\u001b[0m\u001b[0m\u001b[1m\u001b[32m   Compiling\u001b[0m cosine-similarity v0.1.0 (/spell)                        ] 0/3\n",
      "\u001b[K\u001b[0m\u001b[0m\u001b[1m\u001b[32m    Finished\u001b[0m dev [unoptimized + debuginfo] target(s) in 0.73s         ] 2/3\n",
      "\u001b[0m\u001b[0m\u001b[1m\u001b[32m     Running\u001b[0m `target/debug/cosine-similarity Film/SuicideSquad2016 Literature/AlicesAdventuresInWonderland`\n",
      "Similarity score: 0.055827312578945035\n",
      "These works both feature the following tropes: [\"AdaptationalVillainy\", \"Mooks\", \"Foreshadowing\", \"VisualPun\", \"ThePardon\", \"BrickJoke\", \"OnlySaneMan\", \"RealLife\", \"CrazyPrepared\", \"AnAesop\", \"BodyHorror\", \"TheCameo\", \"UnusuallyUninterestingSight\", \"VillainProtagonist\", \"TropeNamer\"]\n"
     ]
    }
   ],
   "source": [
    "!cargo run Film/SuicideSquad2016 Literature/AlicesAdventuresInWonderland"
   ]
  },
  {
   "cell_type": "markdown",
   "metadata": {},
   "source": [
    "### La La Land versus Moonlight\n",
    "\n",
    "Two film buff favorites."
   ]
  },
  {
   "cell_type": "code",
   "execution_count": 17,
   "metadata": {},
   "outputs": [],
   "source": [
    "load_tvtropes_for_media(\"Film/LaLaLand\")"
   ]
  },
  {
   "cell_type": "code",
   "execution_count": 18,
   "metadata": {},
   "outputs": [],
   "source": [
    "load_tvtropes_for_media(\"Film/Moonlight2016\")"
   ]
  },
  {
   "cell_type": "code",
   "execution_count": 19,
   "metadata": {},
   "outputs": [
    {
     "name": "stdout",
     "output_type": "stream",
     "text": [
      "\u001b[K\u001b[0m\u001b[0m\u001b[1m\u001b[32m    Finished\u001b[0m dev [unoptimized + debuginfo] target(s) in 0.00s         ] 2/3\n",
      "\u001b[0m\u001b[0m\u001b[1m\u001b[32m     Running\u001b[0m `target/debug/cosine-similarity Film/LaLaLand Film/Moonlight2016`\n",
      "Similarity score: 0.050043459373697946\n",
      "These works both feature the following tropes: [\"Homage\", \"BabiesEverAfter\", \"SpiritualAntithesis\", \"NiceGuy\", \"Irony\", \"AmicableExes\"]\n"
     ]
    }
   ],
   "source": [
    "!cargo run Film/LaLaLand Film/Moonlight2016"
   ]
  },
  {
   "cell_type": "markdown",
   "metadata": {},
   "source": [
    "### Django Unchained versus The Hateful Eight\n",
    "\n",
    "Both Quentin Tarentino Westerns, so these should overlap quite a bit. And they do!"
   ]
  },
  {
   "cell_type": "code",
   "execution_count": 20,
   "metadata": {},
   "outputs": [],
   "source": [
    "load_tvtropes_for_media(\"Film/DjangoUnchained\")"
   ]
  },
  {
   "cell_type": "code",
   "execution_count": 21,
   "metadata": {},
   "outputs": [],
   "source": [
    "load_tvtropes_for_media(\"Film/TheHatefulEight\")"
   ]
  },
  {
   "cell_type": "code",
   "execution_count": 22,
   "metadata": {},
   "outputs": [
    {
     "name": "stdout",
     "output_type": "stream",
     "text": [
      "\u001b[K\u001b[0m\u001b[0m\u001b[1m\u001b[32m    Finished\u001b[0m dev [unoptimized + debuginfo] target(s) in 0.00s         ] 2/3\n",
      "\u001b[0m\u001b[0m\u001b[1m\u001b[32m     Running\u001b[0m `target/debug/cosine-similarity Film/DjangoUnchained Film/TheHatefulEight`\n",
      "Similarity score: 0.21731656198624275\n",
      "These works both feature the following tropes: [\"LampshadeHanging\", \"ButtMonkey\", \"LargeHam\", \"PunctuatedForEmphasis\", \"GroinAttack\", \"GunTwirling\", \"MoodWhiplash\", \"CruelAndUnusualDeath\", \"AssholeVictim\", \"SpannerInTheWorks\", \"InUniverse\", \"HighPressureBlood\", \"TakeThat\", \"DragonAscendant\", \"TheWestern\", \"AlternateHistory\", \"EvenEvilHasLovedOnes\", \"MoralEventHorizon\", \"PlayedWith\", \"BountyHunter\", \"BittersweetEnding\", \"FauxAffablyEvil\", \"HypocriticalHumor\", \"RunningGag\", \"GenreThrowback\", \"CrazyPrepared\", \"GoryDiscretionShot\", \"NiceHat\", \"BadassLongcoat\", \"EvilIsHammy\", \"MeaningfulName\", \"ColdBloodedTorture\", \"RapeAsDrama\", \"KarmicDeath\", \"MaleFrontalNudity\", \"InstantDeathBullet\", \"RealityEnsues\", \"SmashCut\", \"AskAStupidQuestion\", \"AlliterativeName\", \"BatmanGambit\", \"IDidWhatIHadToDo\", \"EstablishingCharacterMoment\", \"NWordPrivileges\", \"TheCameo\", \"ArbitraryGunPower\", \"SubvertedTrope\", \"AntiHero\", \"Foreshadowing\", \"ActorAllusion\", \"NotSoDifferent\", \"BlackAndGrayMorality\", \"SpiritualSuccessor\", \"DeconstructedTrope\", \"TheReasonYouSuckSpeech\", \"ArtisticLicenseHistory\", \"AnyoneCanDie\", \"AintTooProudToBeg\", \"BottomlessMagazines\", \"DeliberateValuesDissonance\", \"TrueCompanions\", \"ShoutOut\"]\n"
     ]
    }
   ],
   "source": [
    "!cargo run Film/DjangoUnchained Film/TheHatefulEight"
   ]
  },
  {
   "cell_type": "markdown",
   "metadata": {},
   "source": [
    "### The Terminator versus The Terminator 2\n",
    "\n",
    "Direct sequels should be very close."
   ]
  },
  {
   "cell_type": "code",
   "execution_count": 23,
   "metadata": {},
   "outputs": [],
   "source": [
    "load_tvtropes_for_media(\"Film/TheTerminator\")"
   ]
  },
  {
   "cell_type": "code",
   "execution_count": 24,
   "metadata": {},
   "outputs": [],
   "source": [
    "load_tvtropes_for_media(\"Film/Terminator2JudgmentDay\")"
   ]
  },
  {
   "cell_type": "code",
   "execution_count": 25,
   "metadata": {},
   "outputs": [
    {
     "name": "stdout",
     "output_type": "stream",
     "text": [
      "\u001b[K\u001b[0m\u001b[0m\u001b[1m\u001b[32m    Finished\u001b[0m dev [unoptimized + debuginfo] target(s) in 0.00s         ] 2/3\n",
      "\u001b[0m\u001b[0m\u001b[1m\u001b[32m     Running\u001b[0m `target/debug/cosine-similarity Film/TheTerminator Film/Terminator2JudgmentDay`\n",
      "Similarity score: 0.22974188043864677\n",
      "These works both feature the following tropes: [\"VillainsBlendInBetter\", \"WrongGenreSavvy\", \"MonsterThreatExpiration\", \"NeverendingTerror\", \"OnlyAFleshWound\", \"SequelHook\", \"ContrivedCoincidence\", \"InvokedTrope\", \"CurbstompCushion\", \"StealthPun\", \"BadFuture\", \"Foreshadowing\", \"EvilDetectingDog\", \"CantTakeAnythingWithYou\", \"TrashcanBonfire\", \"InsistentTerminology\", \"ScrewDestiny\", \"AIIsACrapshoot\", \"TropeCodifier\", \"ShotgunsAreJustBetter\", \"FailedASpotCheck\", \"EnemyRisingBehind\", \"GunPorn\", \"TookALevelInBadass\", \"TheCameo\", \"SuddenlyShouting\", \"TimeTravel\", \"BilingualBonus\", \"EyeScream\", \"UncannyValley\", \"MoodWhiplash\", \"BittersweetEnding\", \"LaResistance\", \"MoreDakka\", \"NakedOnArrival\", \"HeroicSacrifice\", \"AvertedTrope\", \"ChekhovsGun\", \"BottomlessMagazines\", \"SequelEscalation\", \"PreMortemOneLiner\", \"ArtisticLicenseBiology\", \"WordOfGod\", \"TwentyMinutesIntoTheFuture\", \"RoboticReveal\", \"EstablishingCharacterMoment\", \"TropeNamer\", \"PoliceAreUseless\", \"UnorthodoxReload\", \"CopKillerManhunt\", \"Determinator\", \"StableTimeLoop\", \"DeletedScene\", \"BaitAndSwitch\", \"TakeTheWheel\", \"WhatHappenedToTheMouse\", \"CatScare\", \"RobotWar\", \"FeetFirstIntroduction\", \"CentralTheme\", \"ATeamFiring\", \"HopeSpot\", \"BeautyIsNeverTarnished\", \"NoodleIncident\", \"Catchphrase\", \"BullyingADragon\", \"DeathByIrony\", \"CreatorCameo\", \"Foil\", \"ManlyTears\", \"NiceJobBreakingItHero\", \"Novelization\", \"ShellShockedVeteran\", \"ActionGirl\", \"TheReveal\", \"NoSell\", \"KickTheDog\", \"ShownTheirWork\", \"KillerRobot\", \"HollywoodDarkness\", \"GetOut\", \"RoboCam\", \"HeroicBSOD\", \"AssholeVictim\", \"Irony\", \"JustifiedTrope\", \"FreezeFrameBonus\", \"ImmuneToBullets\", \"TooDumbToLive\"]\n"
     ]
    }
   ],
   "source": [
    "!cargo run Film/TheTerminator Film/Terminator2JudgmentDay"
   ]
  },
  {
   "cell_type": "markdown",
   "metadata": {},
   "source": [
    "## Moonrise Kingdom versus The Grand Budapest Hotel\n",
    "\n",
    "Trey: \"every Wes Anderson movie is the same\"."
   ]
  },
  {
   "cell_type": "code",
   "execution_count": 26,
   "metadata": {},
   "outputs": [],
   "source": [
    "load_tvtropes_for_media(\"Film/MoonriseKingdom\")"
   ]
  },
  {
   "cell_type": "code",
   "execution_count": 27,
   "metadata": {},
   "outputs": [],
   "source": [
    "load_tvtropes_for_media(\"Film/TheGrandBudapestHotel\")"
   ]
  },
  {
   "cell_type": "code",
   "execution_count": 28,
   "metadata": {},
   "outputs": [
    {
     "name": "stdout",
     "output_type": "stream",
     "text": [
      "\u001b[K\u001b[0m\u001b[0m\u001b[1m\u001b[32m    Finished\u001b[0m dev [unoptimized + debuginfo] target(s) in 0.00s         ] 2/3\n",
      "\u001b[0m\u001b[0m\u001b[1m\u001b[32m     Running\u001b[0m `target/debug/cosine-similarity Film/MoonriseKingdom Film/TheGrandBudapestHotel`\n",
      "Similarity score: 0.06993363769976844\n",
      "These works both feature the following tropes: [\"WordOfGod\", \"ShoutOut\", \"EveryoneCallsHimBarkeep\", \"DistinguishedGentlemansPipe\", \"MeaningfulName\", \"SecretTestOfCharacter\", \"AllStarCast\", \"JerkWithAHeartOfGold\", \"ReasonableAuthorityFigure\"]\n"
     ]
    }
   ],
   "source": [
    "!cargo run Film/MoonriseKingdom Film/TheGrandBudapestHotel"
   ]
  }
 ],
 "metadata": {
  "kernelspec": {
   "display_name": "Python 3",
   "language": "python",
   "name": "python3"
  },
  "language_info": {
   "codemirror_mode": {
    "name": "ipython",
    "version": 3
   },
   "file_extension": ".py",
   "mimetype": "text/x-python",
   "name": "python",
   "nbconvert_exporter": "python",
   "pygments_lexer": "ipython3",
   "version": "3.7.7"
  }
 },
 "nbformat": 4,
 "nbformat_minor": 4
}
